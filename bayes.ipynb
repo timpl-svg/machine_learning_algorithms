{
 "cells": [
  {
   "cell_type": "code",
   "execution_count": 1,
   "id": "500b1799-253f-4fcf-bb21-088421d594ce",
   "metadata": {},
   "outputs": [],
   "source": [
    "import numpy as np\n",
    "import pandas as pd\n",
    "from naive_bayes_classifier import NaiveBayesGD\n",
    "from sklearn.model_selection import train_test_split\n",
    "from sklearn.metrics import accuracy_score\n",
    "from sklearn.naive_bayes import GaussianNB\n",
    "from sklearn import datasets"
   ]
  },
  {
   "cell_type": "code",
   "execution_count": 2,
   "id": "799667ff-fb50-452e-bcd0-07c8497f638a",
   "metadata": {},
   "outputs": [],
   "source": [
    "dataset = datasets.load_iris()"
   ]
  },
  {
   "cell_type": "code",
   "execution_count": 3,
   "id": "394724b5-aa42-4982-b436-6d4d6db8e505",
   "metadata": {},
   "outputs": [
    {
     "data": {
      "text/plain": [
       "(150, 4)"
      ]
     },
     "execution_count": 3,
     "metadata": {},
     "output_type": "execute_result"
    }
   ],
   "source": [
    "dataset.data.shape"
   ]
  },
  {
   "cell_type": "code",
   "execution_count": 4,
   "id": "c2a85835-5df0-404d-8194-14c9c6086906",
   "metadata": {},
   "outputs": [],
   "source": [
    "X = dataset.data\n",
    "y = dataset.target\n",
    "model = NaiveBayesGD()"
   ]
  },
  {
   "cell_type": "code",
   "execution_count": 5,
   "id": "866591b2-36f2-4d42-9cb9-ab11c8aa46b4",
   "metadata": {},
   "outputs": [],
   "source": [
    "X_train, X_test, y_train, y_test = train_test_split(X, y, test_size=0.1, random_state=42)"
   ]
  },
  {
   "cell_type": "code",
   "execution_count": 6,
   "id": "dec89030-2897-492c-bd91-c4e2db33a249",
   "metadata": {},
   "outputs": [
    {
     "data": {
      "text/html": [
       "<div>\n",
       "<style scoped>\n",
       "    .dataframe tbody tr th:only-of-type {\n",
       "        vertical-align: middle;\n",
       "    }\n",
       "\n",
       "    .dataframe tbody tr th {\n",
       "        vertical-align: top;\n",
       "    }\n",
       "\n",
       "    .dataframe thead th {\n",
       "        text-align: right;\n",
       "    }\n",
       "</style>\n",
       "<table border=\"1\" class=\"dataframe\">\n",
       "  <thead>\n",
       "    <tr style=\"text-align: right;\">\n",
       "      <th></th>\n",
       "      <th>sepal length (cm)</th>\n",
       "      <th>sepal width (cm)</th>\n",
       "      <th>petal length (cm)</th>\n",
       "      <th>petal width (cm)</th>\n",
       "      <th>target</th>\n",
       "    </tr>\n",
       "  </thead>\n",
       "  <tbody>\n",
       "    <tr>\n",
       "      <th>0</th>\n",
       "      <td>6.3</td>\n",
       "      <td>3.3</td>\n",
       "      <td>4.7</td>\n",
       "      <td>1.6</td>\n",
       "      <td>1</td>\n",
       "    </tr>\n",
       "    <tr>\n",
       "      <th>1</th>\n",
       "      <td>6.5</td>\n",
       "      <td>3.0</td>\n",
       "      <td>5.8</td>\n",
       "      <td>2.2</td>\n",
       "      <td>2</td>\n",
       "    </tr>\n",
       "    <tr>\n",
       "      <th>2</th>\n",
       "      <td>5.6</td>\n",
       "      <td>2.5</td>\n",
       "      <td>3.9</td>\n",
       "      <td>1.1</td>\n",
       "      <td>1</td>\n",
       "    </tr>\n",
       "    <tr>\n",
       "      <th>3</th>\n",
       "      <td>5.7</td>\n",
       "      <td>2.8</td>\n",
       "      <td>4.5</td>\n",
       "      <td>1.3</td>\n",
       "      <td>1</td>\n",
       "    </tr>\n",
       "    <tr>\n",
       "      <th>4</th>\n",
       "      <td>6.4</td>\n",
       "      <td>2.8</td>\n",
       "      <td>5.6</td>\n",
       "      <td>2.2</td>\n",
       "      <td>2</td>\n",
       "    </tr>\n",
       "    <tr>\n",
       "      <th>...</th>\n",
       "      <td>...</td>\n",
       "      <td>...</td>\n",
       "      <td>...</td>\n",
       "      <td>...</td>\n",
       "      <td>...</td>\n",
       "    </tr>\n",
       "    <tr>\n",
       "      <th>130</th>\n",
       "      <td>6.1</td>\n",
       "      <td>2.8</td>\n",
       "      <td>4.0</td>\n",
       "      <td>1.3</td>\n",
       "      <td>1</td>\n",
       "    </tr>\n",
       "    <tr>\n",
       "      <th>131</th>\n",
       "      <td>4.9</td>\n",
       "      <td>2.5</td>\n",
       "      <td>4.5</td>\n",
       "      <td>1.7</td>\n",
       "      <td>2</td>\n",
       "    </tr>\n",
       "    <tr>\n",
       "      <th>132</th>\n",
       "      <td>5.8</td>\n",
       "      <td>4.0</td>\n",
       "      <td>1.2</td>\n",
       "      <td>0.2</td>\n",
       "      <td>0</td>\n",
       "    </tr>\n",
       "    <tr>\n",
       "      <th>133</th>\n",
       "      <td>5.8</td>\n",
       "      <td>2.6</td>\n",
       "      <td>4.0</td>\n",
       "      <td>1.2</td>\n",
       "      <td>1</td>\n",
       "    </tr>\n",
       "    <tr>\n",
       "      <th>134</th>\n",
       "      <td>7.1</td>\n",
       "      <td>3.0</td>\n",
       "      <td>5.9</td>\n",
       "      <td>2.1</td>\n",
       "      <td>2</td>\n",
       "    </tr>\n",
       "  </tbody>\n",
       "</table>\n",
       "<p>135 rows × 5 columns</p>\n",
       "</div>"
      ],
      "text/plain": [
       "     sepal length (cm)  sepal width (cm)  petal length (cm)  petal width (cm)  \\\n",
       "0                  6.3               3.3                4.7               1.6   \n",
       "1                  6.5               3.0                5.8               2.2   \n",
       "2                  5.6               2.5                3.9               1.1   \n",
       "3                  5.7               2.8                4.5               1.3   \n",
       "4                  6.4               2.8                5.6               2.2   \n",
       "..                 ...               ...                ...               ...   \n",
       "130                6.1               2.8                4.0               1.3   \n",
       "131                4.9               2.5                4.5               1.7   \n",
       "132                5.8               4.0                1.2               0.2   \n",
       "133                5.8               2.6                4.0               1.2   \n",
       "134                7.1               3.0                5.9               2.1   \n",
       "\n",
       "     target  \n",
       "0         1  \n",
       "1         2  \n",
       "2         1  \n",
       "3         1  \n",
       "4         2  \n",
       "..      ...  \n",
       "130       1  \n",
       "131       2  \n",
       "132       0  \n",
       "133       1  \n",
       "134       2  \n",
       "\n",
       "[135 rows x 5 columns]"
      ]
     },
     "execution_count": 6,
     "metadata": {},
     "output_type": "execute_result"
    }
   ],
   "source": [
    "train_df = pd.DataFrame(X_train)\n",
    "train_df.columns = dataset.feature_names\n",
    "train_df[\"target\"] = y_train\n",
    "train_df"
   ]
  },
  {
   "cell_type": "code",
   "execution_count": 7,
   "id": "1b8c3cf3-82a1-4d81-80a0-72aac743d8f2",
   "metadata": {},
   "outputs": [],
   "source": [
    "model.fit(X_train, y_train)"
   ]
  },
  {
   "cell_type": "code",
   "execution_count": 8,
   "id": "f9dd6b36-03c8-46c8-bd5d-215987a5b909",
   "metadata": {},
   "outputs": [],
   "source": [
    "means = model.calculate_mean_values()"
   ]
  },
  {
   "cell_type": "code",
   "execution_count": 9,
   "id": "39684bcd-820a-42b1-967f-8d8341f5eab5",
   "metadata": {},
   "outputs": [
    {
     "name": "stdout",
     "output_type": "stream",
     "text": [
      "Mean values of the features for each class:\n"
     ]
    },
    {
     "data": {
      "text/html": [
       "<div>\n",
       "<style scoped>\n",
       "    .dataframe tbody tr th:only-of-type {\n",
       "        vertical-align: middle;\n",
       "    }\n",
       "\n",
       "    .dataframe tbody tr th {\n",
       "        vertical-align: top;\n",
       "    }\n",
       "\n",
       "    .dataframe thead th {\n",
       "        text-align: right;\n",
       "    }\n",
       "</style>\n",
       "<table border=\"1\" class=\"dataframe\">\n",
       "  <thead>\n",
       "    <tr style=\"text-align: right;\">\n",
       "      <th></th>\n",
       "      <th>sepal length (cm)</th>\n",
       "      <th>sepal width (cm)</th>\n",
       "      <th>petal length (cm)</th>\n",
       "      <th>petal width (cm)</th>\n",
       "    </tr>\n",
       "  </thead>\n",
       "  <tbody>\n",
       "    <tr>\n",
       "      <th>setosa</th>\n",
       "      <td>4.975000</td>\n",
       "      <td>3.427273</td>\n",
       "      <td>1.459091</td>\n",
       "      <td>0.247727</td>\n",
       "    </tr>\n",
       "    <tr>\n",
       "      <th>versicolor</th>\n",
       "      <td>5.915909</td>\n",
       "      <td>2.777273</td>\n",
       "      <td>4.250000</td>\n",
       "      <td>1.322727</td>\n",
       "    </tr>\n",
       "    <tr>\n",
       "      <th>virginica</th>\n",
       "      <td>6.559574</td>\n",
       "      <td>2.974468</td>\n",
       "      <td>5.542553</td>\n",
       "      <td>2.014894</td>\n",
       "    </tr>\n",
       "  </tbody>\n",
       "</table>\n",
       "</div>"
      ],
      "text/plain": [
       "            sepal length (cm)  sepal width (cm)  petal length (cm)  \\\n",
       "setosa               4.975000          3.427273           1.459091   \n",
       "versicolor           5.915909          2.777273           4.250000   \n",
       "virginica            6.559574          2.974468           5.542553   \n",
       "\n",
       "            petal width (cm)  \n",
       "setosa              0.247727  \n",
       "versicolor          1.322727  \n",
       "virginica           2.014894  "
      ]
     },
     "execution_count": 9,
     "metadata": {},
     "output_type": "execute_result"
    }
   ],
   "source": [
    "means_df = pd.DataFrame(means)\n",
    "means_df.index = dataset.target_names\n",
    "means_df.columns = dataset.feature_names\n",
    "print(\"Mean values of the features for each class:\")\n",
    "means_df"
   ]
  },
  {
   "cell_type": "code",
   "execution_count": 11,
   "id": "837a8bd8-5e60-4426-9aca-1bd95091329c",
   "metadata": {},
   "outputs": [],
   "source": [
    "variances = model.calculate_variances()"
   ]
  },
  {
   "cell_type": "code",
   "execution_count": 12,
   "id": "da05d5c7-f62b-4c55-be7f-caeea9ad2e5f",
   "metadata": {},
   "outputs": [
    {
     "name": "stdout",
     "output_type": "stream",
     "text": [
      "Variances of the features for each class:\n"
     ]
    },
    {
     "data": {
      "text/html": [
       "<div>\n",
       "<style scoped>\n",
       "    .dataframe tbody tr th:only-of-type {\n",
       "        vertical-align: middle;\n",
       "    }\n",
       "\n",
       "    .dataframe tbody tr th {\n",
       "        vertical-align: top;\n",
       "    }\n",
       "\n",
       "    .dataframe thead th {\n",
       "        text-align: right;\n",
       "    }\n",
       "</style>\n",
       "<table border=\"1\" class=\"dataframe\">\n",
       "  <thead>\n",
       "    <tr style=\"text-align: right;\">\n",
       "      <th></th>\n",
       "      <th>sepal length (cm)</th>\n",
       "      <th>sepal width (cm)</th>\n",
       "      <th>petal length (cm)</th>\n",
       "      <th>petal width (cm)</th>\n",
       "    </tr>\n",
       "  </thead>\n",
       "  <tbody>\n",
       "    <tr>\n",
       "      <th>setosa</th>\n",
       "      <td>0.115966</td>\n",
       "      <td>0.146983</td>\n",
       "      <td>0.031508</td>\n",
       "      <td>0.010677</td>\n",
       "    </tr>\n",
       "    <tr>\n",
       "      <th>versicolor</th>\n",
       "      <td>0.274065</td>\n",
       "      <td>0.101302</td>\n",
       "      <td>0.219318</td>\n",
       "      <td>0.041302</td>\n",
       "    </tr>\n",
       "    <tr>\n",
       "      <th>virginica</th>\n",
       "      <td>0.392196</td>\n",
       "      <td>0.104029</td>\n",
       "      <td>0.270104</td>\n",
       "      <td>0.075310</td>\n",
       "    </tr>\n",
       "  </tbody>\n",
       "</table>\n",
       "</div>"
      ],
      "text/plain": [
       "            sepal length (cm)  sepal width (cm)  petal length (cm)  \\\n",
       "setosa               0.115966          0.146983           0.031508   \n",
       "versicolor           0.274065          0.101302           0.219318   \n",
       "virginica            0.392196          0.104029           0.270104   \n",
       "\n",
       "            petal width (cm)  \n",
       "setosa              0.010677  \n",
       "versicolor          0.041302  \n",
       "virginica           0.075310  "
      ]
     },
     "execution_count": 12,
     "metadata": {},
     "output_type": "execute_result"
    }
   ],
   "source": [
    "var_df = pd.DataFrame(variances)\n",
    "var_df.index = dataset.target_names\n",
    "var_df.columns = dataset.feature_names\n",
    "print(\"Variances of the features for each class:\")\n",
    "var_df"
   ]
  },
  {
   "cell_type": "code",
   "execution_count": 13,
   "id": "64f3d0c4-6505-450d-80b3-02b05fec816a",
   "metadata": {},
   "outputs": [
    {
     "data": {
      "text/plain": [
       "setosa        0.325926\n",
       "versicolor    0.325926\n",
       "virginica     0.348148\n",
       "dtype: float64"
      ]
     },
     "execution_count": 13,
     "metadata": {},
     "output_type": "execute_result"
    }
   ],
   "source": [
    "frequencies = model.calculate_frequencies()\n",
    "f_df = pd.Series(frequencies)\n",
    "f_df.index = dataset.target_names\n",
    "f_df"
   ]
  },
  {
   "cell_type": "code",
   "execution_count": 14,
   "id": "d31367c9-5839-4920-a699-43f5b30c17b2",
   "metadata": {},
   "outputs": [
    {
     "data": {
      "text/html": [
       "<div>\n",
       "<style scoped>\n",
       "    .dataframe tbody tr th:only-of-type {\n",
       "        vertical-align: middle;\n",
       "    }\n",
       "\n",
       "    .dataframe tbody tr th {\n",
       "        vertical-align: top;\n",
       "    }\n",
       "\n",
       "    .dataframe thead th {\n",
       "        text-align: right;\n",
       "    }\n",
       "</style>\n",
       "<table border=\"1\" class=\"dataframe\">\n",
       "  <thead>\n",
       "    <tr style=\"text-align: right;\">\n",
       "      <th></th>\n",
       "      <th>setosa</th>\n",
       "      <th>versicolor</th>\n",
       "      <th>virginica</th>\n",
       "    </tr>\n",
       "  </thead>\n",
       "  <tbody>\n",
       "    <tr>\n",
       "      <th>0</th>\n",
       "      <td>-217.062403</td>\n",
       "      <td>-1.829461</td>\n",
       "      <td>-7.193590</td>\n",
       "    </tr>\n",
       "    <tr>\n",
       "      <th>1</th>\n",
       "      <td>-4.908912</td>\n",
       "      <td>-33.855721</td>\n",
       "      <td>-52.130092</td>\n",
       "    </tr>\n",
       "    <tr>\n",
       "      <th>2</th>\n",
       "      <td>-702.483584</td>\n",
       "      <td>-34.655049</td>\n",
       "      <td>-7.337863</td>\n",
       "    </tr>\n",
       "    <tr>\n",
       "      <th>3</th>\n",
       "      <td>-226.778034</td>\n",
       "      <td>-1.731255</td>\n",
       "      <td>-5.253166</td>\n",
       "    </tr>\n",
       "    <tr>\n",
       "      <th>4</th>\n",
       "      <td>-256.122131</td>\n",
       "      <td>-3.311527</td>\n",
       "      <td>-4.806061</td>\n",
       "    </tr>\n",
       "    <tr>\n",
       "      <th>5</th>\n",
       "      <td>-3.014831</td>\n",
       "      <td>-31.069036</td>\n",
       "      <td>-51.205684</td>\n",
       "    </tr>\n",
       "    <tr>\n",
       "      <th>6</th>\n",
       "      <td>-128.340907</td>\n",
       "      <td>-2.346964</td>\n",
       "      <td>-12.634080</td>\n",
       "    </tr>\n",
       "    <tr>\n",
       "      <th>7</th>\n",
       "      <td>-425.068195</td>\n",
       "      <td>-16.611137</td>\n",
       "      <td>-2.180836</td>\n",
       "    </tr>\n",
       "    <tr>\n",
       "      <th>8</th>\n",
       "      <td>-232.896219</td>\n",
       "      <td>-3.436063</td>\n",
       "      <td>-7.875008</td>\n",
       "    </tr>\n",
       "    <tr>\n",
       "      <th>9</th>\n",
       "      <td>-142.869744</td>\n",
       "      <td>-1.636683</td>\n",
       "      <td>-11.555863</td>\n",
       "    </tr>\n",
       "    <tr>\n",
       "      <th>10</th>\n",
       "      <td>-365.478150</td>\n",
       "      <td>-9.825684</td>\n",
       "      <td>-1.668150</td>\n",
       "    </tr>\n",
       "    <tr>\n",
       "      <th>11</th>\n",
       "      <td>-2.951580</td>\n",
       "      <td>-40.254672</td>\n",
       "      <td>-61.117106</td>\n",
       "    </tr>\n",
       "    <tr>\n",
       "      <th>12</th>\n",
       "      <td>-2.835782</td>\n",
       "      <td>-39.114560</td>\n",
       "      <td>-59.001481</td>\n",
       "    </tr>\n",
       "    <tr>\n",
       "      <th>13</th>\n",
       "      <td>-2.558260</td>\n",
       "      <td>-38.858285</td>\n",
       "      <td>-59.238638</td>\n",
       "    </tr>\n",
       "    <tr>\n",
       "      <th>14</th>\n",
       "      <td>-1.815564</td>\n",
       "      <td>-37.401761</td>\n",
       "      <td>-56.823350</td>\n",
       "    </tr>\n",
       "  </tbody>\n",
       "</table>\n",
       "</div>"
      ],
      "text/plain": [
       "        setosa  versicolor  virginica\n",
       "0  -217.062403   -1.829461  -7.193590\n",
       "1    -4.908912  -33.855721 -52.130092\n",
       "2  -702.483584  -34.655049  -7.337863\n",
       "3  -226.778034   -1.731255  -5.253166\n",
       "4  -256.122131   -3.311527  -4.806061\n",
       "5    -3.014831  -31.069036 -51.205684\n",
       "6  -128.340907   -2.346964 -12.634080\n",
       "7  -425.068195  -16.611137  -2.180836\n",
       "8  -232.896219   -3.436063  -7.875008\n",
       "9  -142.869744   -1.636683 -11.555863\n",
       "10 -365.478150   -9.825684  -1.668150\n",
       "11   -2.951580  -40.254672 -61.117106\n",
       "12   -2.835782  -39.114560 -59.001481\n",
       "13   -2.558260  -38.858285 -59.238638\n",
       "14   -1.815564  -37.401761 -56.823350"
      ]
     },
     "execution_count": 14,
     "metadata": {},
     "output_type": "execute_result"
    }
   ],
   "source": [
    "probs = model.calculate_probabilities(X_test)\n",
    "probs_df = pd.DataFrame(probs, columns=dataset.target_names)\n",
    "probs_df"
   ]
  },
  {
   "cell_type": "code",
   "execution_count": 15,
   "id": "1349adea-c14c-4a2f-9ff7-3eaee02e579f",
   "metadata": {},
   "outputs": [
    {
     "data": {
      "text/plain": [
       "array([1., 0., 2., 1., 1., 0., 1., 2., 1., 1., 2., 0., 0., 0., 0.])"
      ]
     },
     "execution_count": 15,
     "metadata": {},
     "output_type": "execute_result"
    }
   ],
   "source": [
    "predict = model.predict(X_test)\n",
    "predict"
   ]
  },
  {
   "cell_type": "code",
   "execution_count": 16,
   "id": "50086f7d-8dbe-4b83-8c5e-9bdedd22ed66",
   "metadata": {},
   "outputs": [
    {
     "data": {
      "text/plain": [
       "1.0"
      ]
     },
     "execution_count": 16,
     "metadata": {},
     "output_type": "execute_result"
    }
   ],
   "source": [
    "accuracy_score(y_test, predict)"
   ]
  },
  {
   "cell_type": "code",
   "execution_count": 17,
   "id": "683d8aa8-a1c0-4b27-9187-5d95348ed6cc",
   "metadata": {},
   "outputs": [],
   "source": [
    "sk_model = GaussianNB()\n",
    "sk_model.fit(X_train, y_train)\n",
    "predict = sk_model.predict(X_test)"
   ]
  },
  {
   "cell_type": "code",
   "execution_count": 18,
   "id": "16977716-43c9-421f-882c-97b4a545d25d",
   "metadata": {},
   "outputs": [
    {
     "data": {
      "text/plain": [
       "array([1, 0, 2, 1, 1, 0, 1, 2, 1, 1, 2, 0, 0, 0, 0])"
      ]
     },
     "execution_count": 18,
     "metadata": {},
     "output_type": "execute_result"
    }
   ],
   "source": [
    "predict"
   ]
  },
  {
   "cell_type": "code",
   "execution_count": 19,
   "id": "78456fa9-ace3-41e7-aae2-0bba0af1af97",
   "metadata": {},
   "outputs": [
    {
     "data": {
      "text/plain": [
       "1.0"
      ]
     },
     "execution_count": 19,
     "metadata": {},
     "output_type": "execute_result"
    }
   ],
   "source": [
    "accuracy_score(y_test, predict)"
   ]
  }
 ],
 "metadata": {
  "kernelspec": {
   "display_name": "Python 3 (ipykernel)",
   "language": "python",
   "name": "python3"
  },
  "language_info": {
   "codemirror_mode": {
    "name": "ipython",
    "version": 3
   },
   "file_extension": ".py",
   "mimetype": "text/x-python",
   "name": "python",
   "nbconvert_exporter": "python",
   "pygments_lexer": "ipython3",
   "version": "3.9.10"
  }
 },
 "nbformat": 4,
 "nbformat_minor": 5
}
